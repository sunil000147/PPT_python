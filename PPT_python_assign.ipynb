{
 "cells": [
  {
   "cell_type": "code",
   "execution_count": 19,
   "id": "82fe692b-f0e5-4e3a-b831-d2db905647a2",
   "metadata": {},
   "outputs": [],
   "source": [
    "''' 1. Write a Python program to reverse a string without using any built-in string reversal functions.'''\n",
    "\n",
    "def reverse1(string) :\n",
    "    \n",
    "    reverse = ' '\n",
    "    \n",
    "    for i in range(len(string)-1,-1,-1) :\n",
    "        \n",
    "        reverse = reverse + string[i]\n",
    "        \n",
    "    return reverse\n",
    "\n",
    "\n",
    "# while loop\n",
    "\n",
    "def reverse2(string):\n",
    "    reverse = ' '\n",
    "    lenght = len(string)\n",
    "    \n",
    "    while lenght > 0 :\n",
    "        reverse = reverse + string[lenght-1]\n",
    "        lenght -= 1 \n",
    "    return reverse"
   ]
  },
  {
   "cell_type": "code",
   "execution_count": 20,
   "id": "5591c04d-4fa0-4737-abce-e8bb288202d0",
   "metadata": {},
   "outputs": [],
   "source": [
    "''' 2. Implement a function to check if a given string is a palindrome '''\n",
    "\n",
    "def is_palindrome(string):\n",
    "    \n",
    "    string = string.replace(\" \", \"\").lower()\n",
    "    \n",
    "    for i in range(len(string)):\n",
    "        \n",
    "        if string[i] != string[len(string)-1-i] :\n",
    "            return ' its not a palindrome ' \n",
    "        else:\n",
    "            return \" it is a palindrome \"\n",
    "        \n",
    "        \n",
    "# with while loop\n",
    "\n",
    "def palindrome(string):\n",
    "    string = string.replace(\" \", \"\").lower()\n",
    "    left = 0\n",
    "    right = len(string)-1\n",
    "    while left < right :\n",
    "        if string[left] != string[right] :\n",
    "            left += 1\n",
    "            right -=1\n",
    "            return ' it is not a palindrome '\n",
    "        else:\n",
    "            return ' it is a palindrome '\n",
    "        \n",
    "# conditonal method\n",
    "\n",
    "def palindrome3(string):\n",
    "    string  = string.replace(\" \", \"\").lower()\n",
    "    \n",
    "    if string == string[::-1] :\n",
    "        return \" it is palindrome \"\n",
    "    else :\n",
    "        return \" it is not palindrome \"\n",
    "    "
   ]
  },
  {
   "cell_type": "code",
   "execution_count": 21,
   "id": "d5c1d15e-cab3-4316-822f-58a9d9a52ea4",
   "metadata": {},
   "outputs": [],
   "source": [
    "'''3. Write a program to find the largest element in a given list.'''\n",
    "def largest(list):\n",
    "    largest = list[0]\n",
    "    for i in list :\n",
    "        if i > largest :\n",
    "            largest = i\n",
    "    return largest\n",
    "           "
   ]
  },
  {
   "cell_type": "code",
   "execution_count": 22,
   "id": "71289744-65cd-4544-a326-b43948eab626",
   "metadata": {},
   "outputs": [],
   "source": [
    "''' 4. Implement a function to count the occurrence of each element in a list.'''\n",
    "\n",
    "def count_occurrences(lst):\n",
    "    count = {}\n",
    "    for i in lst :\n",
    "        if i in count :\n",
    "            count[i] += 1\n",
    "        else:\n",
    "            count[i]=1\n",
    "    return count\n",
    "    "
   ]
  },
  {
   "cell_type": "code",
   "execution_count": 23,
   "id": "2eb8ca1c-2362-4e9b-8d35-8bbf1b02961f",
   "metadata": {},
   "outputs": [],
   "source": [
    "def find_second_largest(numbers):\n",
    "    if len(numbers) < 2:\n",
    "        return None\n",
    "\n",
    "    largest = float('-inf')\n",
    "    second_largest = float('-inf')\n",
    "\n",
    "    for num in numbers:\n",
    "        if num > largest:\n",
    "            second_largest = largest\n",
    "            largest = num\n",
    "        elif num > second_largest and num < largest:\n",
    "            second_largest = num\n",
    "\n",
    "    return second_largest\n",
    "\n"
   ]
  },
  {
   "cell_type": "code",
   "execution_count": 24,
   "id": "c656b10f-a34a-4553-9c88-29119e7f512c",
   "metadata": {},
   "outputs": [],
   "source": [
    "''' 6. Implement a function to remove duplicate elements from a list.'''\n",
    "\n",
    "def remove_duplicate(lst):\n",
    "    unique_lst = []\n",
    "    for i in lst :\n",
    "        if i not in unique_lst :\n",
    "            unique_lst.append(i)\n",
    "    return unique_lst"
   ]
  },
  {
   "cell_type": "code",
   "execution_count": 25,
   "id": "ecc92f94-27ba-415f-8f5d-c7e6888aa17b",
   "metadata": {},
   "outputs": [],
   "source": [
    "# 7. Write a program to calculate the factorial of a given number.\n",
    "def factorial(number):\n",
    "    factorial = 1\n",
    "    for i in range(1,number+1):\n",
    "        factorial = factorial * i\n",
    "    return factorial"
   ]
  },
  {
   "cell_type": "code",
   "execution_count": 26,
   "id": "b1509421-c640-4093-9e7b-661ca037e4ea",
   "metadata": {},
   "outputs": [],
   "source": [
    "''' 8. Implement a function to check if a given number is prime.'''\n",
    "def check_prime(number):\n",
    "    if number <=1:\n",
    "        return False\n",
    "    for i in range(2,number):\n",
    "        if number % i ==0:\n",
    "            return False\n",
    "        else : \n",
    "            return True\n",
    "    \n"
   ]
  },
  {
   "cell_type": "code",
   "execution_count": 27,
   "id": "c481db43-455f-4285-9313-66c8828b3034",
   "metadata": {},
   "outputs": [
    {
     "name": "stdout",
     "output_type": "stream",
     "text": [
      "[1, 2, 3, 5, 8]\n"
     ]
    }
   ],
   "source": [
    "# 9. Write a Python program to sort a list of integers in ascending order.\n",
    "def sort_list_ascending(lst):\n",
    "    return sorted(lst)\n",
    "\n",
    "# Example usage\n",
    "numbers = [5, 2, 8, 3, 1]\n",
    "sorted_numbers = sort_list_ascending(numbers)\n",
    "print(sorted_numbers)\n"
   ]
  },
  {
   "cell_type": "code",
   "execution_count": 28,
   "id": "835ed0f5-0b49-4541-bcf2-ed0a79e76bbb",
   "metadata": {},
   "outputs": [],
   "source": [
    "# 10. Implement a function to find the sum of all numbers in a list.\n",
    "def sum(lst):\n",
    "    sum = 0\n",
    "    for i in lst :\n",
    "        sum += i\n",
    "    return sum\n",
    "# with while loop\n",
    "def sum(lst):\n",
    "    sum = 0\n",
    "    i=0\n",
    "    \n",
    "    while len(lst) > i:\n",
    "        sum = sum + lst[i]\n",
    "        i += 1\n",
    "    return sum\n",
    "\n",
    "        "
   ]
  },
  {
   "cell_type": "code",
   "execution_count": 29,
   "id": "669b816d-6a93-42b5-ab06-6ff5c6f9c34f",
   "metadata": {},
   "outputs": [],
   "source": [
    "''' 11. Write a program to find the common elements between two lists.'''\n",
    "def common(lst1,lst2):\n",
    "    common_element = []\n",
    "    for i in lst1:\n",
    "        if i in lst2:\n",
    "            common_element.append(i)\n",
    "    return common_element"
   ]
  },
  {
   "cell_type": "code",
   "execution_count": 30,
   "id": "bb664321-c149-4093-88f4-668a36f916c0",
   "metadata": {},
   "outputs": [],
   "source": [
    "# 12. Implement a function to check if a given string is an anagram of another string.\n",
    "\n",
    "def check_anagram(s1,s2):\n",
    "    s1=s1.replace(\" \", \"\").lower()\n",
    "    s2=s2.replace(\" \",\"\").lower()\n",
    "    \n",
    "    if len(s1) == len(s2) and sorted(s1)==sorted(s2):\n",
    "        return \" both srings are anagram \"\n",
    "    else:\n",
    "        return \" both strings are not anagram \"\n",
    "    \n"
   ]
  },
  {
   "cell_type": "code",
   "execution_count": 31,
   "id": "c17aa1d0-7d16-47bf-a0bc-55f8bbee91ad",
   "metadata": {},
   "outputs": [],
   "source": [
    "'''14. Implement a function to calculate the Fibonacci sequence up to a given number of terms'''\n",
    "def Fibonacci(number):\n",
    "    a,b = 0,1\n",
    "    counter = 0\n",
    "    \n",
    "    while counter<number :\n",
    "        print(a)\n",
    "        c=a+b\n",
    "        a=b\n",
    "        b=c\n",
    "        counter += 1\n",
    "# for loop\n",
    "def  fib(n):\n",
    "    s=[]\n",
    "    a,b=0,1\n",
    "    for i in range(n):\n",
    "        s.append(a)\n",
    "        c=a+b\n",
    "        a=b\n",
    "        b=c\n",
    "        \n",
    "    return s\n",
    "        \n",
    "    \n",
    "    \n",
    "    "
   ]
  },
  {
   "cell_type": "code",
   "execution_count": 32,
   "id": "22d1e73e-2241-4c07-9833-091cba135a82",
   "metadata": {},
   "outputs": [],
   "source": [
    "# 16. Implement a function to check if a given list is sorted in non-decreasing order\n",
    "\n",
    "def check_srted(lst):\n",
    "    for i in range(len(lst)-1):\n",
    "        if lst[i] > lst[i+1]:\n",
    "            return False\n",
    "    return True\n",
    "    "
   ]
  },
  {
   "cell_type": "code",
   "execution_count": 34,
   "id": "840cad1c-9558-46dc-a778-a783cb535c6a",
   "metadata": {},
   "outputs": [],
   "source": [
    "# Q.15 Write a program to find the median of a list of numbers.\n",
    "\n",
    "def find_median(numbers):\n",
    "    numbers.sort()\n",
    "    n = len(numbers)\n",
    "    \n",
    "    if n % 2 == 0:\n",
    "        mid1 = numbers[n // 2]\n",
    "        mid2 = numbers[n // 2 - 1]\n",
    "        median = (mid1 + mid2) / 2\n",
    "    else:\n",
    "        median = numbers[n // 2]\n",
    "    \n",
    "    return median\n"
   ]
  },
  {
   "cell_type": "code",
   "execution_count": 35,
   "id": "dbde4aee-059e-4eb0-9191-57513feb6f75",
   "metadata": {},
   "outputs": [
    {
     "name": "stdout",
     "output_type": "stream",
     "text": [
      "[40]\n"
     ]
    }
   ],
   "source": [
    "# 17. Write a Python program to find the intersection of two lists.\n",
    "# Anwer\n",
    "\n",
    "def find_intersection(list1, list2):\n",
    "    set1 = set(list1)\n",
    "    set2 = set(list2)\n",
    "    intersection = list(set1.intersection(set2))\n",
    "    return intersection\n",
    "\n",
    "my_list1 = [10, 20, 30, 40]\n",
    "my_list2 = [40, 50, 60, 70]\n",
    "result = find_intersection(my_list1, my_list2)\n",
    "print(result)"
   ]
  },
  {
   "cell_type": "code",
   "execution_count": 37,
   "id": "95271e05-0e2c-4520-b568-64030042fa71",
   "metadata": {},
   "outputs": [],
   "source": [
    "#18. Implement a function to find the maximum subarray sum in a given list.\n",
    "# Answer\n",
    "\n",
    "def max_subarray_sum(nums):\n",
    "    current_sum = 0\n",
    "    max_sum = float('-inf')\n",
    "\n",
    "    for num in nums:\n",
    "        current_sum = max(num, current_sum + num)\n",
    "        max_sum = max(max_sum, current_sum)\n",
    "\n",
    "    return max_sum\n"
   ]
  },
  {
   "cell_type": "code",
   "execution_count": 38,
   "id": "4928ff13-52b3-4edc-a38e-67b92a053c43",
   "metadata": {},
   "outputs": [
    {
     "name": "stdout",
     "output_type": "stream",
     "text": [
      "Pythn Prgrmmng\n"
     ]
    }
   ],
   "source": [
    "# 19. Write a program to remove all vowels from a given string.\n",
    "# Answer\n",
    "\n",
    "def remove_vowels(string):\n",
    "    vowels = 'aeiouAEIOU'\n",
    "    without_vowels = ''.join(char for char in string if char not in vowels)\n",
    "    return without_vowels\n",
    "\n",
    "my_string = \"Python Programming\"\n",
    "result = remove_vowels(my_string)\n",
    "print(result)\n"
   ]
  },
  {
   "cell_type": "code",
   "execution_count": 39,
   "id": "eb2251ef-2a75-4a2d-8433-32da4d5c8c15",
   "metadata": {},
   "outputs": [],
   "source": [
    "# 20. Implement a function to reverse the order of words in a given sentence.\n",
    "# Answer\n",
    "\n",
    "def reverse_words(sentence):\n",
    "    words = sentence.split()\n",
    "    reversed_words = words[::-1]\n",
    "    reversed_sentence = ' '.join(reversed_words)\n",
    "    return reversed_sentence\n"
   ]
  },
  {
   "cell_type": "code",
   "execution_count": 40,
   "id": "7f52fb0e-b341-4209-af24-d4768bc403d0",
   "metadata": {},
   "outputs": [
    {
     "name": "stdout",
     "output_type": "stream",
     "text": [
      "True\n"
     ]
    }
   ],
   "source": [
    "# 21. Write a Python program to check if two strings are anagrams of each other.\n",
    "# Answer\n",
    "\n",
    "def are_anagrams(string1, string2):\n",
    "    return sorted(string1) == sorted(string2)\n",
    "\n",
    "string1 = \"triangle\"\n",
    "string2 = \"integral\"\n",
    "result = are_anagrams(string1, string2)\n",
    "print(result)"
   ]
  },
  {
   "cell_type": "code",
   "execution_count": 41,
   "id": "ce5071df-8c06-442a-9a9e-e4c8d6300159",
   "metadata": {},
   "outputs": [],
   "source": [
    "# 22. Implement a function to find the first non-repeating character in a string.\n",
    "# Answer\n",
    "\n",
    "from collections import Counter\n",
    "\n",
    "def find_first_non_repeating_char(string):\n",
    "    counter = Counter(string)\n",
    "\n",
    "    for char in string:\n",
    "        if counter[char] == 1:\n",
    "            return char\n",
    "\n",
    "    return None"
   ]
  },
  {
   "cell_type": "code",
   "execution_count": 42,
   "id": "2fabc6af-a12f-4156-8f36-ab2c7a4dcd30",
   "metadata": {},
   "outputs": [],
   "source": [
    "# 23. Write a program to find the prime factors of a given number.\n",
    "# Answer\n",
    "\n",
    "def prime_factors(number):\n",
    "    factors = []\n",
    "    divisor = 2\n",
    "\n",
    "    while divisor <= number:\n",
    "        if number % divisor == 0:\n",
    "            factors.append(divisor)\n",
    "            number //= divisor\n",
    "        else:\n",
    "            divisor += 1\n",
    "\n",
    "    return factors\n"
   ]
  },
  {
   "cell_type": "code",
   "execution_count": 43,
   "id": "4d350100-6f47-4298-a61d-b67249ceeea0",
   "metadata": {},
   "outputs": [],
   "source": [
    "# 24. Implement a function to check if a given number is a power of two.\n",
    "# Answer\n",
    "\n",
    "def is_power_of_two(number):\n",
    "    if number <= 0:\n",
    "        return False\n",
    "    return (number & (number - 1)) == 0\n"
   ]
  },
  {
   "cell_type": "code",
   "execution_count": 44,
   "id": "83d60a91-e820-4f66-9776-ae84947b0dba",
   "metadata": {},
   "outputs": [
    {
     "name": "stdout",
     "output_type": "stream",
     "text": [
      "[1, 2, 3, 4, 5, 6, 7, 8]\n"
     ]
    }
   ],
   "source": [
    "# 25. Write a Python program to merge two sorted lists into a single sorted list.\n",
    "# Answer\n",
    "\n",
    "def merge_sorted_lists(list1, list2):\n",
    "    merged_list = []\n",
    "    i, j = 0, 0\n",
    "\n",
    "    while i < len(list1) and j < len(list2):\n",
    "        if list1[i] <= list2[j]:\n",
    "            merged_list.append(list1[i])\n",
    "            i += 1\n",
    "        else:\n",
    "            merged_list.append(list2[j])\n",
    "            j += 1\n",
    "\n",
    "    while i < len(list1):\n",
    "        merged_list.append(list1[i])\n",
    "        i += 1\n",
    "\n",
    "    while j < len(list2):\n",
    "        merged_list.append(list2[j])\n",
    "        j += 1\n",
    "\n",
    "    return merged_list\n",
    "\n",
    "list1 = [1, 2, 3]\n",
    "list2 = [4, 5, 6, 7, 8]\n",
    "result = merge_sorted_lists(list1, list2)\n",
    "print(result)\n"
   ]
  },
  {
   "cell_type": "code",
   "execution_count": 45,
   "id": "8364f6f0-dac1-408e-9cc5-cca9eb23ccc1",
   "metadata": {},
   "outputs": [],
   "source": [
    "# 26. Implement a function to find the mode of a list of numbers.\n",
    "# Answer\n",
    "\n",
    "from collections import Counter\n",
    "\n",
    "def find_mode(numbers):\n",
    "    counter = Counter(numbers)\n",
    "    modes = counter.most_common()\n",
    "    max_count = modes[0][1]\n",
    "    mode_list = [mode[0] for mode in modes if mode[1] == max_count]\n",
    "    return mode_list\n"
   ]
  },
  {
   "cell_type": "code",
   "execution_count": 46,
   "id": "a7e1c4b8-f937-4ab5-ba40-801ddaf21155",
   "metadata": {},
   "outputs": [
    {
     "name": "stdout",
     "output_type": "stream",
     "text": [
      "12\n"
     ]
    }
   ],
   "source": [
    "# 27. Write a program to find the greatest common divisor (GCD) of two numbers.\n",
    "# Answer\n",
    "\n",
    "def gcd(a, b):\n",
    "    while b != 0:\n",
    "        a, b = b, a % b\n",
    "    return a\n",
    "\n",
    "number1 = 36\n",
    "number2 = 48\n",
    "result = gcd(number1, number2)\n",
    "print(result)\n"
   ]
  },
  {
   "cell_type": "code",
   "execution_count": 47,
   "id": "22867441-e953-4f2b-bddf-90696eb9d8a7",
   "metadata": {},
   "outputs": [],
   "source": [
    "# 28. Implement a function to calculate the square root of a given number.\n",
    "# Answer\n",
    "\n",
    "def square_root(number):\n",
    "    if number < 0:\n",
    "        raise ValueError(\"Square root is not defined for negative numbers\")\n",
    "\n",
    "    guess = number\n",
    "    while True:\n",
    "        new_guess = (guess + number / guess) / 2\n",
    "        if abs(new_guess - guess) < 1e-9:\n",
    "            break\n",
    "        guess = new_guess\n",
    "\n",
    "    return new_guess\n"
   ]
  },
  {
   "cell_type": "code",
   "execution_count": 48,
   "id": "40d63326-60d6-4920-82ac-e2982170c543",
   "metadata": {},
   "outputs": [
    {
     "name": "stdout",
     "output_type": "stream",
     "text": [
      "True\n",
      "False\n"
     ]
    }
   ],
   "source": [
    "# 29. Write a Python program to check if a given string is a valid palindrome ignoring non-alphanumeric characters\n",
    "# Answer\n",
    "\n",
    "def is_valid_palindrome(s):\n",
    "    # Remove non-alphanumeric characters and convert to lowercase\n",
    "    s = ''.join(c for c in s if c.isalnum()).lower()\n",
    "\n",
    "    # Check if the string is a palindrome\n",
    "    return s == s[::-1]\n",
    "\n",
    "string = \"A man, a plan, a canal: Panama\"\n",
    "print(is_valid_palindrome(string))  \n",
    "\n",
    "string = \"race a car\"\n",
    "print(is_valid_palindrome(string))  \n"
   ]
  },
  {
   "cell_type": "code",
   "execution_count": 49,
   "id": "24fbc16f-b7c4-4f71-8bd4-4ad542c40863",
   "metadata": {},
   "outputs": [],
   "source": [
    "# 30. Implement a function to find the minimum element in a rotated sorted list.\n",
    "# Answer\n",
    "\n",
    "def find_minimum(nums):\n",
    "    left = 0\n",
    "    right = len(nums) - 1\n",
    "\n",
    "    while left < right:\n",
    "        mid = left + (right - left) // 2\n",
    "\n",
    "        if nums[mid] > nums[right]:\n",
    "            left = mid + 1\n",
    "        else:\n",
    "            right = mid\n",
    "\n",
    "    return nums[left]\n"
   ]
  },
  {
   "cell_type": "code",
   "execution_count": 50,
   "id": "a567109c-e46b-4343-b263-59e1af6788e8",
   "metadata": {},
   "outputs": [
    {
     "name": "stdout",
     "output_type": "stream",
     "text": [
      "26\n"
     ]
    }
   ],
   "source": [
    "# 31. Write a program to find the sum of all even numbers in a list.\n",
    "# Answer\n",
    "\n",
    "def sum_of_even_numbers(lst):\n",
    "    sum_even = 0\n",
    "    for num in lst:\n",
    "        if num % 2 == 0:\n",
    "            sum_even += num\n",
    "    return sum_even\n",
    "\n",
    "my_list = [11, 12, 13, 14, 15]\n",
    "result = sum_of_even_numbers(my_list)\n",
    "print(result)"
   ]
  },
  {
   "cell_type": "code",
   "execution_count": 51,
   "id": "2ec65b7d-2db5-48b0-805c-052d5d90eb49",
   "metadata": {},
   "outputs": [],
   "source": [
    "# 32. Implement a function to calculate the power of a number using recursion.\n",
    "# Answer\n",
    "\n",
    "def power(base, exponent):\n",
    "    if exponent == 0:\n",
    "        return 1\n",
    "    elif exponent > 0:\n",
    "        return base * power(base, exponent - 1)\n",
    "    else:\n",
    "        return 1 / power(base, -exponent)\n"
   ]
  },
  {
   "cell_type": "code",
   "execution_count": 52,
   "id": "71a0e3ac-5d9d-479a-b45a-b8708ca267fb",
   "metadata": {},
   "outputs": [
    {
     "name": "stdout",
     "output_type": "stream",
     "text": [
      "['a', 'b', 'c']\n"
     ]
    }
   ],
   "source": [
    "# 33. Write a Python program to remove duplicates from a list while preserving the order.\n",
    "# Answer\n",
    "\n",
    "def remove_duplicates(lst):\n",
    "    seen = set()\n",
    "    result = []\n",
    "    for item in lst:\n",
    "        if item not in seen:\n",
    "            result.append(item)\n",
    "            seen.add(item)\n",
    "    return result\n",
    "\n",
    "my_list = [\"a\", \"b\", \"c\", \"a\", \"b\", \"c\"]\n",
    "result = remove_duplicates(my_list)\n",
    "print(result) \n"
   ]
  },
  {
   "cell_type": "code",
   "execution_count": 53,
   "id": "f846feda-a04a-4327-9942-d45bc038761f",
   "metadata": {},
   "outputs": [],
   "source": [
    "# 34. Implement a function to find the longest common prefix among a list of strings.\n",
    "# Answer\n",
    "\n",
    "def longest_common_prefix(strings):\n",
    "    if not strings:\n",
    "        return \"\"\n",
    "\n",
    "    min_length = min(len(string) for string in strings)\n",
    "    prefix = \"\"\n",
    "    for i in range(min_length):\n",
    "        common_char = strings[0][i]\n",
    "        for string in strings[1:]:\n",
    "            if string[i] != common_char:\n",
    "                return prefix\n",
    "        prefix += common_char\n",
    "\n",
    "    return prefix\n"
   ]
  },
  {
   "cell_type": "code",
   "execution_count": 54,
   "id": "c63d8813-4dec-4a5c-92c5-778c7eb6faf5",
   "metadata": {},
   "outputs": [
    {
     "name": "stdout",
     "output_type": "stream",
     "text": [
      "True\n"
     ]
    }
   ],
   "source": [
    "# 35. Write a program to check if a given number is a perfect square.\n",
    "# Answer\n",
    "\n",
    "def is_perfect_square(number):\n",
    "    if number < 0:\n",
    "        return False\n",
    "\n",
    "    root = int(number ** 0.5)\n",
    "    return root * root == number\n",
    "\n",
    "number = 16\n",
    "result = is_perfect_square(number)\n",
    "print(result)"
   ]
  },
  {
   "cell_type": "code",
   "execution_count": 55,
   "id": "7ec41976-c05f-4270-b6a0-7937b9d73e01",
   "metadata": {},
   "outputs": [],
   "source": [
    "# 36. Implement a function to calculate the product of all elements in a list.\n",
    "# Answer\n",
    "\n",
    "def calculate_product(lst):\n",
    "    product = 1\n",
    "    for num in lst:\n",
    "        product *= num\n",
    "    return product\n"
   ]
  },
  {
   "cell_type": "code",
   "execution_count": 56,
   "id": "caa35399-ad39-4272-9380-eddd100c7f8a",
   "metadata": {},
   "outputs": [
    {
     "name": "stdout",
     "output_type": "stream",
     "text": [
      "you? are How world! Hello,\n"
     ]
    }
   ],
   "source": [
    "# 37. Write a Python program to reverse the order of words in a sentence while preserving the word order.\n",
    "# Answer\n",
    "\n",
    "def reverse_sentence(sentence):\n",
    "    words = sentence.split()\n",
    "    reversed_sentence = ' '.join(reversed(words))\n",
    "    return reversed_sentence\n",
    "\n",
    "sentence = \"Hello, world! How are you?\"\n",
    "result = reverse_sentence(sentence)\n",
    "print(result)\n"
   ]
  },
  {
   "cell_type": "code",
   "execution_count": 57,
   "id": "c0fcce33-8dc3-4719-915d-fbf46fc7eb7e",
   "metadata": {},
   "outputs": [
    {
     "name": "stdout",
     "output_type": "stream",
     "text": [
      "4\n"
     ]
    }
   ],
   "source": [
    "# 38. Implement a function to find the missing number in a given list of consecutive numbers.\n",
    "# Answer\n",
    "\n",
    "def find_missing_number(nums):\n",
    "    n = len(nums) + 1\n",
    "    expected_sum = (n * (n + 1)) // 2\n",
    "    actual_sum = sum(nums)\n",
    "    missing_number = expected_sum - actual_sum\n",
    "    return missing_number\n",
    "\n",
    "my_list = [1, 2, 3, 5, 6, 7, 8, 9, 10]\n",
    "missing_number = find_missing_number(my_list)\n",
    "print(missing_number)"
   ]
  },
  {
   "cell_type": "code",
   "execution_count": 58,
   "id": "5d0529fb-ae74-4002-8643-8fd549dd9f51",
   "metadata": {},
   "outputs": [
    {
     "name": "stdout",
     "output_type": "stream",
     "text": [
      "30\n"
     ]
    }
   ],
   "source": [
    "# 39. Write a program to find the sum of digits of a given number.\n",
    "# Answer\n",
    "\n",
    "def sum_of_digits(number):\n",
    "    sum_digits = 0\n",
    "    while number > 0:\n",
    "        digit = number % 10\n",
    "        sum_digits += digit\n",
    "        number //= 10\n",
    "    return sum_digits\n",
    "\n",
    "number = 9876\n",
    "result = sum_of_digits(number)\n",
    "print(result)\n"
   ]
  },
  {
   "cell_type": "code",
   "execution_count": 59,
   "id": "547bf691-ec77-4f22-a5a2-bc9b5032ba8d",
   "metadata": {},
   "outputs": [],
   "source": [
    "# 40. Implement a function to check if a given string is a valid palindrome considering case sensitivity.\n",
    "# Answer\n",
    "\n",
    "def is_valid_palindrome(s):\n",
    "    # Remove non-alphanumeric characters and convert to lowercase\n",
    "    s = ''.join(c for c in s if c.isalnum()).lower()\n",
    "    \n",
    "    # Check if the string is a palindrome\n",
    "    return s == s[::-1]\n"
   ]
  },
  {
   "cell_type": "code",
   "execution_count": 60,
   "id": "93bdaf88-5a60-403d-8252-835e16dd9b38",
   "metadata": {},
   "outputs": [
    {
     "name": "stdout",
     "output_type": "stream",
     "text": [
      "1\n"
     ]
    }
   ],
   "source": [
    "# 41. Write a Python program to find the smallest missing positive integer in a list.\n",
    "# Answer\n",
    "\n",
    "def smallest_missing_positive(nums):\n",
    "    n = len(nums)\n",
    "\n",
    "    # Step 1: Move all non-positive numbers to the left side\n",
    "    i = 0\n",
    "    while i < n:\n",
    "        if 0 < nums[i] <= n and nums[nums[i] - 1] != nums[i]:\n",
    "            # Swap nums[i] with nums[nums[i] - 1]\n",
    "            nums[nums[i] - 1], nums[i] = nums[i], nums[nums[i] - 1]\n",
    "        else:\n",
    "            i += 1\n",
    "\n",
    "    # Step 2: Find the first missing positive\n",
    "    for i in range(n):\n",
    "        if nums[i] != i + 1:\n",
    "            return i + 1\n",
    "\n",
    "    # If all positive numbers from 1 to n are present, return n + 1\n",
    "    return n + 1\n",
    "\n",
    "my_list = [7, 8, 9, 11, 12]\n",
    "result = smallest_missing_positive(my_list)\n",
    "print(result)"
   ]
  },
  {
   "cell_type": "code",
   "execution_count": 61,
   "id": "8048101b-5e42-42ef-b016-c8b04e7fdf56",
   "metadata": {},
   "outputs": [],
   "source": [
    "# 42. Implement a function to find the longest palindrome substring in a given string.\n",
    "# Answer\n",
    "\n",
    "def longest_palindrome(s):\n",
    "    longest = \"\"\n",
    "    for i in range(len(s)):\n",
    "        # Check for odd-length palindromes\n",
    "        left, right = i, i\n",
    "        while left >= 0 and right < len(s) and s[left] == s[right]:\n",
    "            if right - left + 1 > len(longest):\n",
    "                longest = s[left:right+1]\n",
    "            left -= 1\n",
    "            right += 1\n",
    "\n",
    "        # Check for even-length palindromes\n",
    "        left, right = i, i + 1\n",
    "        while left >= 0 and right < len(s) and s[left] == s[right]:\n",
    "            if right - left + 1 > len(longest):\n",
    "                longest = s[left:right+1]\n",
    "            left -= 1\n",
    "            right += 1\n",
    "\n",
    "    return longest\n"
   ]
  },
  {
   "cell_type": "code",
   "execution_count": 62,
   "id": "66a43a5d-8453-4f81-86e9-779426d46c8a",
   "metadata": {},
   "outputs": [
    {
     "name": "stdout",
     "output_type": "stream",
     "text": [
      "3\n"
     ]
    }
   ],
   "source": [
    "# 43. Write a program to find the number of occurrences of a given element in a list.\n",
    "# Answer\n",
    "\n",
    "def count_occurrences(lst, element):\n",
    "    count = 0\n",
    "    for item in lst:\n",
    "        if item == element:\n",
    "            count += 1\n",
    "    return count\n",
    "\n",
    "# Example usage\n",
    "my_list = [1, 2, 3, 2, 4, 2, 5]\n",
    "element = 2\n",
    "occurrences = count_occurrences(my_list, element)\n",
    "print(occurrences) \n"
   ]
  },
  {
   "cell_type": "code",
   "execution_count": 63,
   "id": "3ffdc30b-d60c-4783-9f83-5186c02dd4f3",
   "metadata": {},
   "outputs": [
    {
     "name": "stdout",
     "output_type": "stream",
     "text": [
      "True\n",
      "False\n"
     ]
    }
   ],
   "source": [
    "# 44. Implement a function to check if a given number is a perfect number.\n",
    "# Answer\n",
    "\n",
    "def is_perfect_number(num):\n",
    "    if num <= 0:\n",
    "        return False\n",
    "\n",
    "    divisor_sum = 0\n",
    "    for i in range(1, num):\n",
    "        if num % i == 0:\n",
    "            divisor_sum += i\n",
    "\n",
    "    return divisor_sum == num\n",
    "\n",
    "number = 28\n",
    "print(is_perfect_number(number)) \n",
    "\n",
    "number = 12\n",
    "print(is_perfect_number(number))  \n"
   ]
  },
  {
   "cell_type": "code",
   "execution_count": 64,
   "id": "4320f85d-a09d-49c4-acb3-48d5f273778f",
   "metadata": {},
   "outputs": [
    {
     "name": "stdout",
     "output_type": "stream",
     "text": [
      "Helo, Wrd!\n"
     ]
    }
   ],
   "source": [
    "# 45. Write a Python program to remove all duplicates from a string.\n",
    "# Answer\n",
    "\n",
    "def remove_duplicates(string):\n",
    "    return ''.join(dict.fromkeys(string))\n",
    "\n",
    "# Example usage\n",
    "my_string = \"Hello, World!\"\n",
    "result = remove_duplicates(my_string)\n",
    "print(result)\n"
   ]
  },
  {
   "cell_type": "code",
   "execution_count": 66,
   "id": "d08d08eb-3e27-4350-8065-1d6fee00a7b7",
   "metadata": {},
   "outputs": [
    {
     "name": "stdout",
     "output_type": "stream",
     "text": [
      "2\n",
      "3\n",
      "1\n"
     ]
    }
   ],
   "source": [
    "# 46. Implement a function to find the first missing positive\n",
    "# Answer\n",
    "\n",
    "def first_missing_positive(nums):\n",
    "    n = len(nums)\n",
    "\n",
    "    # Step 1: Move all non-positive numbers to the left side\n",
    "    i = 0\n",
    "    while i < n:\n",
    "        if 0 < nums[i] <= n and nums[nums[i] - 1] != nums[i]:\n",
    "            # Swap nums[i] with nums[nums[i] - 1]\n",
    "            nums[nums[i] - 1], nums[i] = nums[i], nums[nums[i] - 1]\n",
    "        else:\n",
    "            i += 1\n",
    "\n",
    "    # Step 2: Find the first missing positive\n",
    "    for i in range(n):\n",
    "        if nums[i] != i + 1:\n",
    "            return i + 1\n",
    "\n",
    "    # If all positive numbers from 1 to n are present, return n + 1\n",
    "    return n + 1\n",
    "\n",
    "my_list = [3, 4, -1, 1]\n",
    "print(first_missing_positive(my_list)) \n",
    "\n",
    "my_list = [1, 2, 0]\n",
    "print(first_missing_positive(my_list)) \n",
    "\n",
    "my_list = [7, 8, 9, 11, 12]\n",
    "print(first_missing_positive(my_list))  \n"
   ]
  },
  {
   "cell_type": "code",
   "execution_count": 67,
   "id": "76ae0b86-30f1-4f3b-98bf-a8767a312b10",
   "metadata": {},
   "outputs": [
    {
     "name": "stdout",
     "output_type": "stream",
     "text": [
      "['abc', 'acb', 'bac', 'bca', 'cab', 'cba']\n"
     ]
    }
   ],
   "source": [
    "# 13. Write a Python program to generate all permutations of a given string.\n",
    "\n",
    "def generate_permutations(string):\n",
    "    # Base case: if the string is empty, return an empty list\n",
    "    if len(string) == 0:\n",
    "        return []\n",
    "\n",
    "    # Base case: if the string has only one character, return the string itself as a list\n",
    "    if len(string) == 1:\n",
    "        return [string]\n",
    "\n",
    "    # Recursive case:\n",
    "    permutations = []  # List to store the permutations\n",
    "\n",
    "    for i in range(len(string)):\n",
    "        # Extract the current character\n",
    "        current_char = string[i]\n",
    "\n",
    "        # Generate all permutations of the remaining characters\n",
    "        remaining_chars = string[:i] + string[i+1:]\n",
    "        sub_permutations = generate_permutations(remaining_chars)\n",
    "\n",
    "        # Append the current character to each sub-permutation\n",
    "        for sub_permutation in sub_permutations:\n",
    "            permutations.append(current_char + sub_permutation)\n",
    "\n",
    "    return permutations\n",
    "\n",
    "my_string = \"abc\"\n",
    "result = generate_permutations(my_string)\n",
    "print(result)"
   ]
  },
  {
   "cell_type": "code",
   "execution_count": 70,
   "id": "cf9987a3-e1de-41f0-8738-10c41f79b100",
   "metadata": {},
   "outputs": [
    {
     "name": "stdout",
     "output_type": "stream",
     "text": [
      "8\n"
     ]
    }
   ],
   "source": [
    "# 5. Write a Python program to find the second largest number in a list.\n",
    "\n",
    "def find_second_largest(numbers):\n",
    "    if len(numbers) < 2:\n",
    "        return None\n",
    "\n",
    "    largest = float('-inf')\n",
    "    second_largest = float('-inf')\n",
    "\n",
    "    for number in numbers:\n",
    "        if number > largest:\n",
    "            second_largest = largest\n",
    "            largest = number\n",
    "        elif number > second_largest and number != largest:\n",
    "            second_largest = number\n",
    "\n",
    "    if second_largest == float('-inf'):\n",
    "        return None\n",
    "    else:\n",
    "        return second_largest\n",
    "\n",
    "my_list = [5, 2, 10, 8, 3]\n",
    "result = find_second_largest(my_list)\n",
    "print(result)"
   ]
  }
 ],
 "metadata": {
  "kernelspec": {
   "display_name": "Python 3 (ipykernel)",
   "language": "python",
   "name": "python3"
  },
  "language_info": {
   "codemirror_mode": {
    "name": "ipython",
    "version": 3
   },
   "file_extension": ".py",
   "mimetype": "text/x-python",
   "name": "python",
   "nbconvert_exporter": "python",
   "pygments_lexer": "ipython3",
   "version": "3.10.8"
  }
 },
 "nbformat": 4,
 "nbformat_minor": 5
}
